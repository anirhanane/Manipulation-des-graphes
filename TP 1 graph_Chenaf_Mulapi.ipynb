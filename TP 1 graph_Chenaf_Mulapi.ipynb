{
 "cells": [
  {
   "cell_type": "markdown",
   "id": "4c62b5ef",
   "metadata": {},
   "source": [
    "# First pratical work of Machine Learning on Graphs by Hanane Chenaf Anir and Mulapi Tita Ketsia"
   ]
  },
  {
   "cell_type": "code",
   "execution_count": 1,
   "id": "ccf4a5fb",
   "metadata": {},
   "outputs": [
    {
     "name": "stdout",
     "output_type": "stream",
     "text": [
      "Requirement already satisfied: networkx in /home/ec2-user/anaconda3/envs/python3/lib/python3.6/site-packages (2.5)\r\n",
      "Requirement already satisfied: decorator>=4.3.0 in /home/ec2-user/anaconda3/envs/python3/lib/python3.6/site-packages (from networkx) (4.4.2)\r\n"
     ]
    }
   ],
   "source": [
    "!pip install networkx"
   ]
  },
  {
   "cell_type": "code",
   "execution_count": 941,
   "id": "f10b2060",
   "metadata": {},
   "outputs": [],
   "source": [
    "import networkx as nx\n",
    "import matplotlib.pyplot as plt\n",
    "import numpy as np\n",
    "import pandas as pd\n",
    "import math\n",
    "\n",
    "class Graphs:\n",
    "    \n",
    "    def __init__(self, list_of_successors, nodes, edges):\n",
    "        '''\n",
    "        Cette méthode permet d'initialiser des variables au moment\n",
    "        de l'instanciation de la classe\n",
    "        nodes : liste des nodes\n",
    "        list_of_successors : la liste des successeurs\n",
    "        edges : les couples avec leurs labels\n",
    "        '''\n",
    "        self.nodes = nodes.keys()\n",
    "        self.successors = list_of_successors\n",
    "        self.pos = nodes\n",
    "        self.edges = edges\n",
    "        self.edges_couple = edges.keys()\n",
    "        self.edges_labels = edges.values()\n",
    "        self.visual_graph = nx.Graph()\n",
    "    \n",
    "    def __str__(self):\n",
    "        '''\n",
    "        Cette méthode définit comment sont affichés les données\n",
    "        '''\n",
    "        return str(self.nodes)\n",
    "    \n",
    "    def build_graph(self):\n",
    "        '''\n",
    "        Cette méthode permet de construire un graphe\n",
    "        '''\n",
    "        try:\n",
    "            self.visual_graph.add_nodes_from(self.nodes)\n",
    "            tuples = list(self.edges.items())\n",
    "            self.new_tuples_for_edges = []\n",
    "            for t in tuples :\n",
    "                c, w = t\n",
    "                init, end = c\n",
    "                self.new_tuples_for_edges.append((init,end,w))\n",
    "                print(self.new_tuples_for_edges)\n",
    "            self.visual_graph.add_weighted_edges_from(self.new_tuples_for_edges, weight='edges')\n",
    "        except:\n",
    "            self.error_exception(self.build_graph)\n",
    "        return self.visual_graph\n",
    "    \n",
    "    def print_graph(self, visual_graph):\n",
    "        '''\n",
    "        Cette méthode permet d'afficher le graphe construit\n",
    "        '''\n",
    "        try:\n",
    "            nx.draw_networkx(visual_graph,self.pos ,with_labels=True)\n",
    "            nx.draw_networkx_edge_labels(visual_graph, self.pos,font_color='k')\n",
    "            plt.title(\"Notre graphe\")\n",
    "            plt.show()\n",
    "        except:\n",
    "            self.error_exception(self.print_graph)\n",
    "    \n",
    "    def get_succesors_of_a_node(self, node):\n",
    "        '''\n",
    "        Cette fonction permet de renvoyer la liste des successeurs\n",
    "        '''\n",
    "        return self.successors[node]\n",
    "    \n",
    "    def get_nodes(self):\n",
    "        '''\n",
    "        Cette fonction permet de renvoyer les noeuds d'un graphe\n",
    "        '''\n",
    "        return self.nodes\n",
    "    \n",
    "    def get_graph_order(self):\n",
    "        '''\n",
    "        Cette méthode permet d'afficher l'ordre d'un graphe\n",
    "        '''\n",
    "        return len(self.nodes)\n",
    "    \n",
    "    def get_node_degree(self, node):\n",
    "        '''\n",
    "        cette méthode permet de renvoyer le degré d'un noeud\n",
    "        '''\n",
    "        occurence = 0\n",
    "        for t in self.new_tuples_for_edges:\n",
    "            if node in t:\n",
    "                occurence += 1\n",
    "        return occurence\n",
    "\n",
    "    def get_edges_number(self):\n",
    "        '''\n",
    "        cette méthode renvoie le nombre d'arrêtes'''\n",
    "        return len(self.edges_labels)\n",
    "        \n",
    "    def get_possible_number_of_edges_in_graph(self):\n",
    "        '''\n",
    "        retourne le nombre possible d'arrete dans un graphe non orienté !!!\n",
    "        '''\n",
    "        n = self.get_graph_order()\n",
    "        return n*((n-1))/2\n",
    "    \n",
    "    def get_adjacent_matrix(self):\n",
    "        '''\n",
    "        retourne la matrice d'adjacence\n",
    "        '''\n",
    "        n = self.get_graph_order()\n",
    "        A = np.zeros((n,n),dtype=int)\n",
    "        names = [_ for _ in self.nodes]\n",
    "        df = pd.DataFrame(A, index=names, columns=names)\n",
    "        for node in self.successors:\n",
    "            values = self.successors[node]\n",
    "            for i in values:\n",
    "                df[i][node] = 1\n",
    "                df[node][i] = 1\n",
    "        print(df)\n",
    "        return df\n",
    "        \n",
    "    def get_incidence_matrix(self):\n",
    "        '''\n",
    "        retorune la matrice d'incidence\n",
    "        '''\n",
    "        n = self.get_graph_order()\n",
    "        m = len(self.edges_labels)\n",
    "        I = np.zeros((n,m),dtype=int)\n",
    "        \n",
    "        names_nodes = [_ for _ in self.nodes]\n",
    "        names_edges = [_ for _ in self.edges_labels]\n",
    "        df = pd.DataFrame(I, index=names_nodes, columns=names_edges)\n",
    "        \n",
    "        \n",
    "        for node in self.nodes:\n",
    "            for i in range(m):\n",
    "                if node in self.new_tuples_for_edges[i] :\n",
    "                    df[names_edges[i]][node]=1\n",
    "        print(df)\n",
    "        return df\n",
    "    \n",
    "    def get_laplacian_matrix(self):\n",
    "        '''\n",
    "        retourne la matrice laplacien et utilise la matrice d'incidence\n",
    "        I : incident_matrix\n",
    "        '''\n",
    "        I = G.get_incidence_matrix()\n",
    "        return I@I.transpose()\n",
    "    \n",
    "    def get_degree_matrix(self):\n",
    "        '''\n",
    "        retourne la matrice des degree\n",
    "        '''\n",
    "        n = self.get_graph_order()\n",
    "        A = np.zeros((n,n),dtype=int)\n",
    "        names = [_ for _ in self.nodes]\n",
    "        df = pd.DataFrame(A, index=names, columns=names)\n",
    "        \n",
    "        for node in self.nodes :   \n",
    "            df[node][node] = self.get_node_degree(node)\n",
    "            \n",
    "        print(df)\n",
    "        return df\n",
    "    \n",
    "    def error_exception(self,func):\n",
    "        '''\n",
    "        cette méthode permet de gérer les exceptions\n",
    "        func : c'est la fonction où s'est généré l'exception\n",
    "        '''\n",
    "        raise Exception(\"Il y'a une erreur dans la fonction\", func)"
   ]
  },
  {
   "cell_type": "code",
   "execution_count": 942,
   "id": "9c37af4c",
   "metadata": {},
   "outputs": [],
   "source": [
    "dic = {\n",
    "    \n",
    "    \"A\" : [\"B\", \"C\"],\n",
    "    \"B\" : [],\n",
    "    \"C\" : [\"D\"],\n",
    "    \"D\" : []    \n",
    "    \n",
    "}\n",
    "nodes = { \"A\" : (0,0), \"B\" : (1,1), \"C\":(0.5,-1), \"D\":(1,-1)}\n",
    "\n",
    "edges_couple = {(\"A\",\"B\"):\"e1\",(\"A\",\"C\"):\"e2\",(\"C\",\"D\"):\"e3\"}"
   ]
  },
  {
   "cell_type": "code",
   "execution_count": 943,
   "id": "316288ee",
   "metadata": {},
   "outputs": [],
   "source": [
    "G = Graphs(dic, nodes, edges_couple)"
   ]
  },
  {
   "cell_type": "code",
   "execution_count": 944,
   "id": "af600a08",
   "metadata": {},
   "outputs": [
    {
     "name": "stdout",
     "output_type": "stream",
     "text": [
      "[('A', 'B', 'e1')]\n",
      "[('A', 'B', 'e1'), ('A', 'C', 'e2')]\n",
      "[('A', 'B', 'e1'), ('A', 'C', 'e2'), ('C', 'D', 'e3')]\n"
     ]
    }
   ],
   "source": [
    "graph = G.build_graph()"
   ]
  },
  {
   "cell_type": "code",
   "execution_count": 945,
   "id": "a6003420",
   "metadata": {},
   "outputs": [
    {
     "data": {
      "text/plain": [
       "<networkx.classes.graph.Graph at 0x7fd26e9da470>"
      ]
     },
     "execution_count": 945,
     "metadata": {},
     "output_type": "execute_result"
    }
   ],
   "source": [
    "graph"
   ]
  },
  {
   "cell_type": "markdown",
   "id": "1dead851",
   "metadata": {},
   "source": [
    "# Afficher le graphe"
   ]
  },
  {
   "cell_type": "code",
   "execution_count": 946,
   "id": "47e018ef",
   "metadata": {},
   "outputs": [
    {
     "data": {
      "image/png": "[encoded data removed]",
      "text/plain": [
       "<Figure size 432x288 with 1 Axes>"
      ]
     },
     "metadata": {},
     "output_type": "display_data"
    }
   ],
   "source": [
    "G.print_graph(graph)"
   ]
  },
  {
   "cell_type": "markdown",
   "id": "df2e227d",
   "metadata": {},
   "source": [
    "# L'ordre du graphe"
   ]
  },
  {
   "cell_type": "code",
   "execution_count": 947,
   "id": "b065bf7c",
   "metadata": {},
   "outputs": [
    {
     "data": {
      "text/plain": [
       "4"
      ]
     },
     "execution_count": 947,
     "metadata": {},
     "output_type": "execute_result"
    }
   ],
   "source": [
    "G.get_graph_order()"
   ]
  },
  {
   "cell_type": "markdown",
   "id": "0b960209",
   "metadata": {},
   "source": [
    "# Le degré d'un noeud"
   ]
  },
  {
   "cell_type": "code",
   "execution_count": 948,
   "id": "a3467dbd",
   "metadata": {},
   "outputs": [
    {
     "data": {
      "text/plain": [
       "2"
      ]
     },
     "execution_count": 948,
     "metadata": {},
     "output_type": "execute_result"
    }
   ],
   "source": [
    "G.get_node_degree(\"A\")"
   ]
  },
  {
   "cell_type": "markdown",
   "id": "9f4ef650",
   "metadata": {},
   "source": [
    "# Liste des successeurs d'un noeud"
   ]
  },
  {
   "cell_type": "code",
   "execution_count": 949,
   "id": "10e054cf",
   "metadata": {},
   "outputs": [
    {
     "data": {
      "text/plain": [
       "['B', 'C']"
      ]
     },
     "execution_count": 949,
     "metadata": {},
     "output_type": "execute_result"
    }
   ],
   "source": [
    "G.get_succesors_of_a_node(\"A\")"
   ]
  },
  {
   "cell_type": "markdown",
   "id": "0c417111",
   "metadata": {},
   "source": [
    "# Liste des noeuds d'un graphe"
   ]
  },
  {
   "cell_type": "code",
   "execution_count": 950,
   "id": "25f86a87",
   "metadata": {},
   "outputs": [
    {
     "data": {
      "text/plain": [
       "dict_keys(['A', 'B', 'C', 'D'])"
      ]
     },
     "execution_count": 950,
     "metadata": {},
     "output_type": "execute_result"
    }
   ],
   "source": [
    "G.get_nodes()"
   ]
  },
  {
   "cell_type": "markdown",
   "id": "eeee321c",
   "metadata": {},
   "source": [
    "# La taille du graphe"
   ]
  },
  {
   "cell_type": "code",
   "execution_count": 961,
   "id": "842801af",
   "metadata": {},
   "outputs": [
    {
     "data": {
      "text/plain": [
       "3"
      ]
     },
     "execution_count": 961,
     "metadata": {},
     "output_type": "execute_result"
    }
   ],
   "source": [
    "G.get_edges_number()"
   ]
  },
  {
   "cell_type": "markdown",
   "id": "c7ab6fcf",
   "metadata": {},
   "source": [
    "# Le nombre maximal et possible d'arrête que le graphe peut admettre (en focntion du nombre de node)"
   ]
  },
  {
   "cell_type": "code",
   "execution_count": 964,
   "id": "789a75db",
   "metadata": {},
   "outputs": [
    {
     "data": {
      "text/plain": [
       "6"
      ]
     },
     "execution_count": 964,
     "metadata": {},
     "output_type": "execute_result"
    }
   ],
   "source": [
    "int(G.get_possible_number_of_edges_in_graph()) \n",
    "# int() car divisé par 2 pour un graphe non orienté renvoie donc un real !\n",
    "# 6.0 !!"
   ]
  },
  {
   "cell_type": "markdown",
   "id": "76c3af20",
   "metadata": {},
   "source": [
    "# La matrice d'adjacence"
   ]
  },
  {
   "cell_type": "code",
   "execution_count": 952,
   "id": "4aead602",
   "metadata": {},
   "outputs": [
    {
     "name": "stdout",
     "output_type": "stream",
     "text": [
      "   A  B  C  D\n",
      "A  0  1  1  0\n",
      "B  1  0  0  0\n",
      "C  1  0  0  1\n",
      "D  0  0  1  0\n"
     ]
    }
   ],
   "source": [
    "A = G.get_adjacent_matrix()"
   ]
  },
  {
   "cell_type": "markdown",
   "id": "4bfa8bfb",
   "metadata": {},
   "source": [
    "# La matrice d'incidence"
   ]
  },
  {
   "cell_type": "code",
   "execution_count": 953,
   "id": "752bf157",
   "metadata": {},
   "outputs": [
    {
     "name": "stdout",
     "output_type": "stream",
     "text": [
      "   e1  e2  e3\n",
      "A   1   1   0\n",
      "B   1   0   0\n",
      "C   0   1   1\n",
      "D   0   0   1\n"
     ]
    }
   ],
   "source": [
    "I = G.get_incidence_matrix()"
   ]
  },
  {
   "cell_type": "markdown",
   "id": "647c1c63",
   "metadata": {},
   "source": [
    "# La matrice de Laplacien"
   ]
  },
  {
   "cell_type": "code",
   "execution_count": 954,
   "id": "0c3bca05",
   "metadata": {},
   "outputs": [
    {
     "name": "stdout",
     "output_type": "stream",
     "text": [
      "   e1  e2  e3\n",
      "A   1   1   0\n",
      "B   1   0   0\n",
      "C   0   1   1\n",
      "D   0   0   1\n"
     ]
    }
   ],
   "source": [
    "L = G.get_laplacian_matrix()"
   ]
  },
  {
   "cell_type": "markdown",
   "id": "a8eadf0e",
   "metadata": {},
   "source": [
    "# La matrice des degrés"
   ]
  },
  {
   "cell_type": "code",
   "execution_count": 955,
   "id": "0b1741bb",
   "metadata": {},
   "outputs": [
    {
     "name": "stdout",
     "output_type": "stream",
     "text": [
      "   A  B  C  D\n",
      "A  2  0  0  0\n",
      "B  0  1  0  0\n",
      "C  0  0  2  0\n",
      "D  0  0  0  1\n"
     ]
    }
   ],
   "source": [
    "D = G.get_degree_matrix()"
   ]
  },
  {
   "cell_type": "markdown",
   "id": "c5cde9a8",
   "metadata": {},
   "source": [
    "# Vérification de l'égalité entre L = D-A"
   ]
  },
  {
   "cell_type": "code",
   "execution_count": 958,
   "id": "0b05bdaa",
   "metadata": {
    "scrolled": false
   },
   "outputs": [
    {
     "data": {
      "text/html": [
       "<div>\n",
       "<style scoped>\n",
       "    .dataframe tbody tr th:only-of-type {\n",
       "        vertical-align: middle;\n",
       "    }\n",
       "\n",
       "    .dataframe tbody tr th {\n",
       "        vertical-align: top;\n",
       "    }\n",
       "\n",
       "    .dataframe thead th {\n",
       "        text-align: right;\n",
       "    }\n",
       "</style>\n",
       "<table border=\"1\" class=\"dataframe\">\n",
       "  <thead>\n",
       "    <tr style=\"text-align: right;\">\n",
       "      <th></th>\n",
       "      <th>A</th>\n",
       "      <th>B</th>\n",
       "      <th>C</th>\n",
       "      <th>D</th>\n",
       "    </tr>\n",
       "  </thead>\n",
       "  <tbody>\n",
       "    <tr>\n",
       "      <th>A</th>\n",
       "      <td>2</td>\n",
       "      <td>-1</td>\n",
       "      <td>-1</td>\n",
       "      <td>0</td>\n",
       "    </tr>\n",
       "    <tr>\n",
       "      <th>B</th>\n",
       "      <td>-1</td>\n",
       "      <td>1</td>\n",
       "      <td>0</td>\n",
       "      <td>0</td>\n",
       "    </tr>\n",
       "    <tr>\n",
       "      <th>C</th>\n",
       "      <td>-1</td>\n",
       "      <td>0</td>\n",
       "      <td>2</td>\n",
       "      <td>-1</td>\n",
       "    </tr>\n",
       "    <tr>\n",
       "      <th>D</th>\n",
       "      <td>0</td>\n",
       "      <td>0</td>\n",
       "      <td>-1</td>\n",
       "      <td>1</td>\n",
       "    </tr>\n",
       "  </tbody>\n",
       "</table>\n",
       "</div>"
      ],
      "text/plain": [
       "   A  B  C  D\n",
       "A  2 -1 -1  0\n",
       "B -1  1  0  0\n",
       "C -1  0  2 -1\n",
       "D  0  0 -1  1"
      ]
     },
     "execution_count": 958,
     "metadata": {},
     "output_type": "execute_result"
    }
   ],
   "source": [
    "D-A"
   ]
  },
  {
   "cell_type": "code",
   "execution_count": 959,
   "id": "480868a1",
   "metadata": {
    "scrolled": true
   },
   "outputs": [
    {
     "data": {
      "text/html": [
       "<div>\n",
       "<style scoped>\n",
       "    .dataframe tbody tr th:only-of-type {\n",
       "        vertical-align: middle;\n",
       "    }\n",
       "\n",
       "    .dataframe tbody tr th {\n",
       "        vertical-align: top;\n",
       "    }\n",
       "\n",
       "    .dataframe thead th {\n",
       "        text-align: right;\n",
       "    }\n",
       "</style>\n",
       "<table border=\"1\" class=\"dataframe\">\n",
       "  <thead>\n",
       "    <tr style=\"text-align: right;\">\n",
       "      <th></th>\n",
       "      <th>A</th>\n",
       "      <th>B</th>\n",
       "      <th>C</th>\n",
       "      <th>D</th>\n",
       "    </tr>\n",
       "  </thead>\n",
       "  <tbody>\n",
       "    <tr>\n",
       "      <th>A</th>\n",
       "      <td>2</td>\n",
       "      <td>1</td>\n",
       "      <td>1</td>\n",
       "      <td>0</td>\n",
       "    </tr>\n",
       "    <tr>\n",
       "      <th>B</th>\n",
       "      <td>1</td>\n",
       "      <td>1</td>\n",
       "      <td>0</td>\n",
       "      <td>0</td>\n",
       "    </tr>\n",
       "    <tr>\n",
       "      <th>C</th>\n",
       "      <td>1</td>\n",
       "      <td>0</td>\n",
       "      <td>2</td>\n",
       "      <td>1</td>\n",
       "    </tr>\n",
       "    <tr>\n",
       "      <th>D</th>\n",
       "      <td>0</td>\n",
       "      <td>0</td>\n",
       "      <td>1</td>\n",
       "      <td>1</td>\n",
       "    </tr>\n",
       "  </tbody>\n",
       "</table>\n",
       "</div>"
      ],
      "text/plain": [
       "   A  B  C  D\n",
       "A  2  1  1  0\n",
       "B  1  1  0  0\n",
       "C  1  0  2  1\n",
       "D  0  0  1  1"
      ]
     },
     "execution_count": 959,
     "metadata": {},
     "output_type": "execute_result"
    }
   ],
   "source": [
    "L"
   ]
  },
  {
   "cell_type": "markdown",
   "id": "ee4f70f6",
   "metadata": {},
   "source": [
    "# Conclusion"
   ]
  },
  {
   "cell_type": "markdown",
   "id": "b927faf7",
   "metadata": {},
   "source": [
    "Nous proposons de revoir la formule de la page 50/104 durant la séance de cours."
   ]
  }
 ],
 "metadata": {
  "kernelspec": {
   "display_name": "Python 3",
   "language": "python",
   "name": "python3"
  },
  "language_info": {
   "codemirror_mode": {
    "name": "ipython",
    "version": 3
   },
   "file_extension": ".py",
   "mimetype": "text/x-python",
   "name": "python",
   "nbconvert_exporter": "python",
   "pygments_lexer": "ipython3",
   "version": "3.8.13"
  }
 },
 "nbformat": 4,
 "nbformat_minor": 5
}
